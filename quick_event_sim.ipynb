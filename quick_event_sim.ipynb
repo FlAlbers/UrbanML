{
 "cells": [
  {
   "cell_type": "code",
   "execution_count": 22,
   "metadata": {},
   "outputs": [
    {
     "data": {
      "text/html": [
       "<div>\n",
       "<style scoped>\n",
       "    .dataframe tbody tr th:only-of-type {\n",
       "        vertical-align: middle;\n",
       "    }\n",
       "\n",
       "    .dataframe tbody tr th {\n",
       "        vertical-align: top;\n",
       "    }\n",
       "\n",
       "    .dataframe thead th {\n",
       "        text-align: right;\n",
       "    }\n",
       "</style>\n",
       "<table border=\"1\" class=\"dataframe\">\n",
       "  <thead>\n",
       "    <tr style=\"text-align: right;\">\n",
       "      <th></th>\n",
       "      <th>start</th>\n",
       "      <th>end</th>\n",
       "      <th>hN_mm</th>\n",
       "      <th>iN_mean</th>\n",
       "      <th>iN_max</th>\n",
       "      <th>hN_max_60</th>\n",
       "      <th>DN_h</th>\n",
       "    </tr>\n",
       "  </thead>\n",
       "  <tbody>\n",
       "    <tr>\n",
       "      <th>441</th>\n",
       "      <td>2016-05-14 14:55:00</td>\n",
       "      <td>2016-05-14 15:35:00</td>\n",
       "      <td>0.95</td>\n",
       "      <td>0.105556</td>\n",
       "      <td>0.59</td>\n",
       "      <td>0.00</td>\n",
       "      <td>0.666667</td>\n",
       "    </tr>\n",
       "    <tr>\n",
       "      <th>717</th>\n",
       "      <td>2017-12-15 10:20:00</td>\n",
       "      <td>2017-12-15 10:55:00</td>\n",
       "      <td>0.80</td>\n",
       "      <td>0.100000</td>\n",
       "      <td>0.27</td>\n",
       "      <td>0.00</td>\n",
       "      <td>0.583333</td>\n",
       "    </tr>\n",
       "    <tr>\n",
       "      <th>428</th>\n",
       "      <td>2016-04-24 09:00:00</td>\n",
       "      <td>2016-04-24 11:45:00</td>\n",
       "      <td>1.16</td>\n",
       "      <td>0.034118</td>\n",
       "      <td>0.56</td>\n",
       "      <td>0.68</td>\n",
       "      <td>2.750000</td>\n",
       "    </tr>\n",
       "    <tr>\n",
       "      <th>1273</th>\n",
       "      <td>2021-04-12 13:35:00</td>\n",
       "      <td>2021-04-12 17:25:00</td>\n",
       "      <td>0.99</td>\n",
       "      <td>0.021064</td>\n",
       "      <td>0.33</td>\n",
       "      <td>0.77</td>\n",
       "      <td>3.833333</td>\n",
       "    </tr>\n",
       "    <tr>\n",
       "      <th>1357</th>\n",
       "      <td>2021-10-05 16:05:00</td>\n",
       "      <td>2021-10-05 17:20:00</td>\n",
       "      <td>0.94</td>\n",
       "      <td>0.058750</td>\n",
       "      <td>0.12</td>\n",
       "      <td>0.76</td>\n",
       "      <td>1.250000</td>\n",
       "    </tr>\n",
       "  </tbody>\n",
       "</table>\n",
       "</div>"
      ],
      "text/plain": [
       "                    start                  end  hN_mm   iN_mean  iN_max  \\\n",
       "441   2016-05-14 14:55:00  2016-05-14 15:35:00   0.95  0.105556    0.59   \n",
       "717   2017-12-15 10:20:00  2017-12-15 10:55:00   0.80  0.100000    0.27   \n",
       "428   2016-04-24 09:00:00  2016-04-24 11:45:00   1.16  0.034118    0.56   \n",
       "1273  2021-04-12 13:35:00  2021-04-12 17:25:00   0.99  0.021064    0.33   \n",
       "1357  2021-10-05 16:05:00  2021-10-05 17:20:00   0.94  0.058750    0.12   \n",
       "\n",
       "      hN_max_60      DN_h  \n",
       "441        0.00  0.666667  \n",
       "717        0.00  0.583333  \n",
       "428        0.68  2.750000  \n",
       "1273       0.77  3.833333  \n",
       "1357       0.76  1.250000  "
      ]
     },
     "execution_count": 22,
     "metadata": {},
     "output_type": "execute_result"
    }
   ],
   "source": [
    "import modules.swmm_ex.swmm_ex_multiprocessing as ex\n",
    "import pandas as pd\n",
    "import matplotlib.pyplot as plt\n",
    "from matplotlib.patches import Rectangle\n",
    "import os\n",
    "from modules.extract_events import extract_events\n",
    "from modules.swmm_ex.swmm_ex_multiprocessing import swmm_mp\n",
    "\n",
    "# Set relevant data paths\n",
    "events_path = os.path.join('02_input_data','events_FMO.csv')\n",
    "P_path = os.path.join('02_input_data','P_FMO.csv')\n",
    "save_folder = os.path.join('03_sim_data','quick_sim')\n",
    "# events_path = '02_input_data\\\\events_FMO.csv'\n",
    "# P_path = '02_input_data\\\\P_FMO.csv'\n",
    "# save_folder = '03_sim_data\\\\quick_sim'\n",
    "\n",
    "# Read in data\n",
    "P_events = pd.read_csv(events_path)\n",
    "P_series = pd.read_csv(P_path)\n",
    "\n",
    "\n",
    "P_sample = P_events[(P_events['hN_mm'] < 2.5) & (P_events['hN_mm'] > 0.5)].sample(5,random_state=5)\n",
    "\n",
    "P_sample"
   ]
  },
  {
   "cell_type": "code",
   "execution_count": 23,
   "metadata": {},
   "outputs": [
    {
     "data": {
      "text/plain": [
       "267"
      ]
     },
     "execution_count": 23,
     "metadata": {},
     "output_type": "execute_result"
    }
   ],
   "source": [
    "len(P_events[(P_events['hN_mm'] <= 1) & (P_events['hN_mm'] > 0.5)])"
   ]
  },
  {
   "cell_type": "code",
   "execution_count": 24,
   "metadata": {},
   "outputs": [
    {
     "name": "stdout",
     "output_type": "stream",
     "text": [
      "Event 2016-05-14 14:55:00 saved to 03_sim_data\\quick_sim\\2016-05-14 14 55 00_hN0.95.csv\n",
      "Event 2017-12-15 10:20:00 saved to 03_sim_data\\quick_sim\\2017-12-15 10 20 00_hN0.8.csv\n",
      "Event 2016-04-24 09:00:00 saved to 03_sim_data\\quick_sim\\2016-04-24 09 00 00_hN1.16.csv\n",
      "Event 2021-04-12 13:35:00 saved to 03_sim_data\\quick_sim\\2021-04-12 13 35 00_hN0.99.csv\n",
      "Event 2021-10-05 16:05:00 saved to 03_sim_data\\quick_sim\\2021-10-05 16 05 00_hN0.94.csv\n"
     ]
    }
   ],
   "source": [
    "extract_events(P_sample, P_series, save_folder)"
   ]
  },
  {
   "cell_type": "code",
   "execution_count": 1,
   "metadata": {},
   "outputs": [
    {
     "ename": "ModuleNotFoundError",
     "evalue": "No module named 'swmm_api'",
     "output_type": "error",
     "traceback": [
      "\u001b[0;31m---------------------------------------------------------------------------\u001b[0m",
      "\u001b[0;31mModuleNotFoundError\u001b[0m                       Traceback (most recent call last)",
      "Cell \u001b[0;32mIn[1], line 1\u001b[0m\n\u001b[0;32m----> 1\u001b[0m \u001b[38;5;28;01mimport\u001b[39;00m \u001b[38;5;21;01mswmm_api\u001b[39;00m\n\u001b[1;32m      2\u001b[0m \u001b[38;5;28;01mfrom\u001b[39;00m \u001b[38;5;21;01mswmm_api\u001b[39;00m\u001b[38;5;21;01m.\u001b[39;00m\u001b[38;5;21;01minput_file\u001b[39;00m \u001b[38;5;28;01mimport\u001b[39;00m section_labels \u001b[38;5;28;01mas\u001b[39;00m sections\n\u001b[1;32m      3\u001b[0m \u001b[38;5;28;01mfrom\u001b[39;00m \u001b[38;5;21;01mmodules\u001b[39;00m\u001b[38;5;21;01m.\u001b[39;00m\u001b[38;5;21;01minp_helpers\u001b[39;00m \u001b[38;5;28;01mimport\u001b[39;00m euler_to_inp, event_to_inp\n",
      "\u001b[0;31mModuleNotFoundError\u001b[0m: No module named 'swmm_api'"
     ]
    }
   ],
   "source": [
    "import swmm_api\n",
    "from swmm_api.input_file import section_labels as sections\n",
    "from modules.inp_helpers import euler_to_inp, event_to_inp\n",
    "\n",
    "# get current path of working directory\n",
    "current_path = os.getcwd()\n",
    "###########################################################################################################\n",
    "# Input section\n",
    "## Input parameters for inp file generation\n",
    "base_inp_path = os.path.join('03_sim_data', 'Gievenbeck_20240325.inp')\n",
    "# base_inp_path = '03_sim_data\\\\Gievenbeck_20240325.inp'\n",
    "# path to folder with rain event data\n",
    "event_data_path = save_folder\n",
    "# path to kostra data\n",
    "kostra_data_path = os.path.join(current_path, '02_input_data','kostra_118111.csv')\n",
    "# set maximum duration time [min] for Kostra data\n",
    "max_duration = 72*60\n",
    "# Name of the study area\n",
    "name_place = 'Gievenbeck'\n",
    "# Path to save the inp files\n",
    "save_inp_path = save_folder\n",
    "# Euler type for Kostra data (2 is standard)\n",
    "euler_typ = 2\n",
    "# Start time of the simulation\n",
    "start_time = pd.to_datetime('2024-01-01 00:00')\n",
    "# Buffer time before and after the rainfall event\n",
    "buffer_time = pd.Timedelta('2h')\n",
    "# Name of the Kostra time series to be included in the inp file\n",
    "TSnameKostra = 'Kostra'\n",
    "# Name of the measured time series to be included in the inp file\n",
    "TSnameEvent = 'FMO'\n",
    "# Time interval of the time series in minutes\n",
    "TSinterval = 5\n",
    "\n",
    "########################\n",
    "# read kostra data\n",
    "kostra = pd.read_csv(kostra_data_path, delimiter=',', index_col=0)\n",
    "# get return preiods and durations from kostra table\n",
    "returnrate = kostra.columns.astype(int)\n",
    "# duration needs to be larger than 15min\n",
    "durations = kostra.index[(kostra.index >= 15) & (kostra.index <= max_duration)]\n",
    "# calculate end time of the simulation with start time and buffer time\n",
    "end_time = start_time + pd.Timedelta(minutes=int(max(durations))) + buffer_time * 2\n",
    "\n",
    "########################\n",
    "inp_base = swmm_api.read_inp_file(base_inp_path)\n",
    "# Update OPTIONS of inp file\n",
    "inp_base['OPTIONS'].update({'START_DATE': start_time.date()})\n",
    "inp_base['OPTIONS'].update({'START_TIME': start_time.time()})\n",
    "inp_base['OPTIONS'].update({'REPORT_START_DATE': start_time.date()})\n",
    "inp_base['OPTIONS'].update({'REPORT_START_TIME': start_time.time()})\n",
    "inp_base['OPTIONS'].update({'END_DATE': end_time.date()})\n",
    "inp_base['OPTIONS'].update({'END_TIME': end_time.time()})\n",
    "# inp_base['OPTIONS'].update({'THREADS': cpu_cores})"
   ]
  },
  {
   "cell_type": "code",
   "execution_count": 26,
   "metadata": {},
   "outputs": [],
   "source": [
    "inp = inp_base\n",
    "try:\n",
    "    del inp[sections.TIMESERIES][TSnameKostra]\n",
    "except Exception:\n",
    "    pass\n",
    "try:\n",
    "    del inp['RAINGAGES'][TSnameKostra]\n",
    "except Exception:\n",
    "    pass\n",
    "\n",
    "for file_name in os.listdir(event_data_path):\n",
    "    if file_name.endswith('.csv'):\n",
    "        \n",
    "        file_path = os.path.join(event_data_path, file_name)\n",
    "        event_data = pd.read_csv(file_path)\n",
    "        inp = event_to_inp(inp, event_data, start_time=start_time + buffer_time, TSname=TSnameEvent)\n",
    "        for subcatchment in inp['SUBCATCHMENTS']:\n",
    "            inp['SUBCATCHMENTS'][subcatchment].rain_gage = TSnameEvent\n",
    "        file_name = file_name.replace('.csv', '')\n",
    "        file_name = file_name.replace('.', ' ')\n",
    "        inp['TITLE'] = f'{name_place}_{file_name}'\n",
    "        inp.write_file(os.path.join(save_inp_path,f'{name_place}_{file_name}.inp'))"
   ]
  },
  {
   "cell_type": "code",
   "execution_count": 27,
   "metadata": {},
   "outputs": [
    {
     "name": "stdout",
     "output_type": "stream",
     "text": [
      "\n",
      "\n",
      "Total simulation time:  10.417437553405762\n",
      "All done\n"
     ]
    }
   ],
   "source": [
    "swmm_mp(save_folder)\n"
   ]
  },
  {
   "cell_type": "code",
   "execution_count": 28,
   "metadata": {},
   "outputs": [
    {
     "data": {
      "text/plain": [
       "267"
      ]
     },
     "execution_count": 28,
     "metadata": {},
     "output_type": "execute_result"
    }
   ],
   "source": [
    "len(P_events[(P_events['hN_mm'] <= 1) & (P_events['hN_mm'] > 0.5)])"
   ]
  },
  {
   "cell_type": "markdown",
   "metadata": {},
   "source": [
    "#### Simulation: Gievenbeck_2016-05-14 14 55 00_hN0 95\n",
    "Niederschlagshöhe: 0.95 mm\n",
    "Abflusshöhe: 0.064 mm\n",
    "\n",
    "#### Simulation: Gievenbeck_2021-04-12 13 35 00_hN0 99\n",
    "Niederschlagshöhe: 0.99 mm\n",
    "Abflusshöhe: 0.051 mm\n",
    "\n",
    "#### Simulation: Gievenbeck_2016-10-28 14 50 00_hN1 47\n",
    "Niederschlagshöhe: 1.47 mm\n",
    "Abflusshöhe: 0.109 mm\n",
    "\n",
    "#### Simulation: Gievenbeck_2016-07-12 17 15 00_hN1 61\n",
    "Niederschlagshöhe: 1.61 mm\n",
    "Abflusshöhe: 0.130 mm\n",
    "\n",
    "Damit die Niederschlagsereignisse eingegrenzt werden können, werden Ereignisse mit weniger als 1 mm Niederschlag als insignifikant eingeordnet und nicht berücksichtigt.\n",
    "Dadurch werden 267 potentielle Ereignisse entfernt. \n",
    "Stichprobensimulationen zeigten, dass mit ca. 1 mm Niederschlaghöhe weniger als 0,1 mm Abfluss erzeugt wurden."
   ]
  },
  {
   "cell_type": "markdown",
   "metadata": {},
   "source": []
  }
 ],
 "metadata": {
  "kernelspec": {
   "display_name": "ml",
   "language": "python",
   "name": "python3"
  },
  "language_info": {
   "codemirror_mode": {
    "name": "ipython",
    "version": 3
   },
   "file_extension": ".py",
   "mimetype": "text/x-python",
   "name": "python",
   "nbconvert_exporter": "python",
   "pygments_lexer": "ipython3",
   "version": "3.11.7"
  }
 },
 "nbformat": 4,
 "nbformat_minor": 2
}
