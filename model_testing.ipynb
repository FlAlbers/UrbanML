{
 "cells": [
  {
   "cell_type": "markdown",
   "metadata": {},
   "source": [
    "1. Test daten abspeichern und hier einlesen\n",
    "2. Ereigniskenndaten einlesen von csv\n",
    "3. zu den listenobjekten jeweils eventdaten hinzufügen (Dauer, hN, imax_60, Jährlichkeit)\n",
    "4. Benchmark eventsauswählen\n",
    "5. load in_scaler und out_scaler\n",
    "6. testdaten sequenzieren und normalisieren\n",
    "7. daten vorhersagen\n",
    "8. predictions mit delta time index versehen\n",
    "9. Auswahl plotten mit delta time\n",
    "    - wie plotten? evtl niederschlag mit balken von oben und predictions + actual ganglinie von unten\n",
    "    - ereigniss kenndaten angeben (Dauer, hN, imax_60, Jährlichkeit)\n",
    "\n",
    "Auswertung aller Sequencen\n",
    "- MAE\n",
    "- RMSE\n",
    "- Scatterplott Actual vs Fitted\n",
    "- Boxplot mit quantilen für jeden Vorhersagezeitschritt\n",
    "- siehe Plots burrichter\n",
    "\n",
    "\n"
   ]
  },
  {
   "cell_type": "code",
   "execution_count": null,
   "metadata": {},
   "outputs": [],
   "source": []
  }
 ],
 "metadata": {
  "language_info": {
   "name": "python"
  }
 },
 "nbformat": 4,
 "nbformat_minor": 2
}
