{
 "cells": [
  {
   "cell_type": "markdown",
   "metadata": {},
   "source": [
    "1. Test daten abspeichern und hier einlesen\n",
    "2. Ereigniskenndaten einlesen von csv\n",
    "3. zu den listenobjekten jeweils eventdaten hinzufügen (Dauer, hN, imax_60, Jährlichkeit)\n",
    "4. Benchmark eventsauswählen\n",
    "5. load in_scaler und out_scaler\n",
    "6. testdaten sequenzieren und normalisieren\n",
    "7. daten vorhersagen\n",
    "8. predictions mit delta time index versehen\n",
    "9. Auswahl plotten mit delta time\n",
    "    - wie plotten? evtl niederschlag mit balken von oben und predictions + actual ganglinie von unten\n",
    "    - ereigniss kenndaten angeben (Dauer, hN, imax_60, Jährlichkeit)\n",
    "\n",
    "Auswertung aller Sequencen\n",
    "- MAE\n",
    "- RMSE\n",
    "- Scatterplott Actual vs Fitted\n",
    "- Boxplot mit quantilen für jeden Vorhersagezeitschritt\n",
    "- siehe Plots burrichter\n",
    "\n",
    "\n"
   ]
  },
  {
   "cell_type": "code",
   "execution_count": 3,
   "metadata": {},
   "outputs": [
    {
     "name": "stdout",
     "output_type": "stream",
     "text": [
      "Loaded model from disk\n"
     ]
    }
   ],
   "source": [
    "\n",
    "import matplotlib.pyplot as plt\n",
    "from matplotlib import pyplot\n",
    "import numpy as np\n",
    "import pandas as pd\n",
    "from tensorflow.keras.models import model_from_json\n",
    "import joblib\n",
    "import pickle\n",
    "import os\n",
    "from modules.sequence_and_normalize import sequence_data, sequence_sample_random, sequence_list\n",
    "from sklearn.preprocessing import MinMaxScaler\n",
    "\n",
    "\n",
    "# Assign all relevant paths\n",
    "model_folder = '05_models\\\\Gievenbeck_SingleNode_LSTM_20240328'\n",
    "model_name = \"Gievenbeck_SingleNode_LSTM_20240328\"\n",
    "model_path = os.path.join(model_folder, f'{model_name}.json')\n",
    "weights_path = os.path.join(model_folder, f'{model_name}.weights.h5')\n",
    "in_scaler_path = os.path.join(model_folder, 'in_scaler.pkl')\n",
    "out_scaler_path = os.path.join(model_folder, 'out_scaler.pkl')\n",
    "test_data_path = os.path.join(model_folder, 'test_data')\n",
    "# Saving model design to JSON\n",
    "\n",
    "# load json and create model\n",
    "json_file = open(model_path, 'r')\n",
    "loaded_model_json = json_file.read()\n",
    "json_file.close()\n",
    "loaded_model = model_from_json(loaded_model_json)\n",
    "# load weights into new model\n",
    "loaded_model.load_weights(weights_path)\n",
    "\n",
    "# Load the scalers\n",
    "loaded_in_scaler = joblib.load(in_scaler_path)\n",
    "loaded_out_scaler = joblib.load(out_scaler_path)\n",
    "\n",
    "# Load the test data\n",
    "with open(test_data_path, 'rb') as file:\n",
    "    test_data_load = pickle.load(file)\n",
    "\n",
    "print(\"Loaded model from disk\")"
   ]
  },
  {
   "cell_type": "code",
   "execution_count": null,
   "metadata": {},
   "outputs": [],
   "source": []
  }
 ],
 "metadata": {
  "kernelspec": {
   "display_name": "ml",
   "language": "python",
   "name": "python3"
  },
  "language_info": {
   "codemirror_mode": {
    "name": "ipython",
    "version": 3
   },
   "file_extension": ".py",
   "mimetype": "text/x-python",
   "name": "python",
   "nbconvert_exporter": "python",
   "pygments_lexer": "ipython3",
   "version": "3.11.7"
  }
 },
 "nbformat": 4,
 "nbformat_minor": 2
}
